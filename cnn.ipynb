{
 "cells": [
  {
   "cell_type": "markdown",
   "id": "7bbc2d6c-00b9-46a4-928f-69b9ba07c9a3",
   "metadata": {},
   "source": [
    "## Neural Network - Approche Deep **SANS** Data AUGMENTATION"
   ]
  },
  {
   "cell_type": "markdown",
   "id": "b719c612-e4ff-44e2-ba9e-648fb2920007",
   "metadata": {},
   "source": [
    "### Import des librairies"
   ]
  },
  {
   "cell_type": "code",
   "execution_count": 1,
   "id": "82816d39-5a77-4524-92b9-5098bde1aaa8",
   "metadata": {},
   "outputs": [
    {
     "name": "stderr",
     "output_type": "stream",
     "text": [
      "Using TensorFlow backend.\n",
      "C:\\Users\\adrien\\Anaconda3\\lib\\site-packages\\tensorflow\\python\\framework\\dtypes.py:516: FutureWarning: Passing (type, 1) or '1type' as a synonym of type is deprecated; in a future version of numpy, it will be understood as (type, (1,)) / '(1,)type'.\n",
      "  _np_qint8 = np.dtype([(\"qint8\", np.int8, 1)])\n",
      "C:\\Users\\adrien\\Anaconda3\\lib\\site-packages\\tensorflow\\python\\framework\\dtypes.py:517: FutureWarning: Passing (type, 1) or '1type' as a synonym of type is deprecated; in a future version of numpy, it will be understood as (type, (1,)) / '(1,)type'.\n",
      "  _np_quint8 = np.dtype([(\"quint8\", np.uint8, 1)])\n",
      "C:\\Users\\adrien\\Anaconda3\\lib\\site-packages\\tensorflow\\python\\framework\\dtypes.py:518: FutureWarning: Passing (type, 1) or '1type' as a synonym of type is deprecated; in a future version of numpy, it will be understood as (type, (1,)) / '(1,)type'.\n",
      "  _np_qint16 = np.dtype([(\"qint16\", np.int16, 1)])\n",
      "C:\\Users\\adrien\\Anaconda3\\lib\\site-packages\\tensorflow\\python\\framework\\dtypes.py:519: FutureWarning: Passing (type, 1) or '1type' as a synonym of type is deprecated; in a future version of numpy, it will be understood as (type, (1,)) / '(1,)type'.\n",
      "  _np_quint16 = np.dtype([(\"quint16\", np.uint16, 1)])\n",
      "C:\\Users\\adrien\\Anaconda3\\lib\\site-packages\\tensorflow\\python\\framework\\dtypes.py:520: FutureWarning: Passing (type, 1) or '1type' as a synonym of type is deprecated; in a future version of numpy, it will be understood as (type, (1,)) / '(1,)type'.\n",
      "  _np_qint32 = np.dtype([(\"qint32\", np.int32, 1)])\n",
      "C:\\Users\\adrien\\Anaconda3\\lib\\site-packages\\tensorflow\\python\\framework\\dtypes.py:525: FutureWarning: Passing (type, 1) or '1type' as a synonym of type is deprecated; in a future version of numpy, it will be understood as (type, (1,)) / '(1,)type'.\n",
      "  np_resource = np.dtype([(\"resource\", np.ubyte, 1)])\n",
      "C:\\Users\\adrien\\Anaconda3\\lib\\site-packages\\tensorboard\\compat\\tensorflow_stub\\dtypes.py:541: FutureWarning: Passing (type, 1) or '1type' as a synonym of type is deprecated; in a future version of numpy, it will be understood as (type, (1,)) / '(1,)type'.\n",
      "  _np_qint8 = np.dtype([(\"qint8\", np.int8, 1)])\n",
      "C:\\Users\\adrien\\Anaconda3\\lib\\site-packages\\tensorboard\\compat\\tensorflow_stub\\dtypes.py:542: FutureWarning: Passing (type, 1) or '1type' as a synonym of type is deprecated; in a future version of numpy, it will be understood as (type, (1,)) / '(1,)type'.\n",
      "  _np_quint8 = np.dtype([(\"quint8\", np.uint8, 1)])\n",
      "C:\\Users\\adrien\\Anaconda3\\lib\\site-packages\\tensorboard\\compat\\tensorflow_stub\\dtypes.py:543: FutureWarning: Passing (type, 1) or '1type' as a synonym of type is deprecated; in a future version of numpy, it will be understood as (type, (1,)) / '(1,)type'.\n",
      "  _np_qint16 = np.dtype([(\"qint16\", np.int16, 1)])\n",
      "C:\\Users\\adrien\\Anaconda3\\lib\\site-packages\\tensorboard\\compat\\tensorflow_stub\\dtypes.py:544: FutureWarning: Passing (type, 1) or '1type' as a synonym of type is deprecated; in a future version of numpy, it will be understood as (type, (1,)) / '(1,)type'.\n",
      "  _np_quint16 = np.dtype([(\"quint16\", np.uint16, 1)])\n",
      "C:\\Users\\adrien\\Anaconda3\\lib\\site-packages\\tensorboard\\compat\\tensorflow_stub\\dtypes.py:545: FutureWarning: Passing (type, 1) or '1type' as a synonym of type is deprecated; in a future version of numpy, it will be understood as (type, (1,)) / '(1,)type'.\n",
      "  _np_qint32 = np.dtype([(\"qint32\", np.int32, 1)])\n",
      "C:\\Users\\adrien\\Anaconda3\\lib\\site-packages\\tensorboard\\compat\\tensorflow_stub\\dtypes.py:550: FutureWarning: Passing (type, 1) or '1type' as a synonym of type is deprecated; in a future version of numpy, it will be understood as (type, (1,)) / '(1,)type'.\n",
      "  np_resource = np.dtype([(\"resource\", np.ubyte, 1)])\n"
     ]
    }
   ],
   "source": [
    "from __future__ import print_function\n",
    "# Télécharger Keras \n",
    "import keras\n",
    "# Télécharger le modèle séquentiel \n",
    "from keras.models import Sequential\n",
    "# Télécharger les couches des cellules neuronales \n",
    "from keras.layers import Dense, Dropout, Flatten\n",
    "from keras.layers import Conv2D, MaxPooling2D\n",
    "from keras import backend as K\n",
    "from tensorflow.keras.preprocessing import image\n",
    "from sklearn.metrics import confusion_matrix\n",
    "import numpy as np\n",
    "import os"
   ]
  },
  {
   "cell_type": "markdown",
   "id": "1886031e-73b9-498a-96a6-1fb0b3b2edff",
   "metadata": {},
   "source": [
    "### Lecture de nos images"
   ]
  },
  {
   "cell_type": "code",
   "execution_count": 2,
   "id": "07338c31-f9a3-459a-bb1e-e2501180b649",
   "metadata": {},
   "outputs": [],
   "source": [
    "def read_image(path, img_rows, img_cols):\n",
    "    img = image.load_img(path, target_size=(img_rows, img_cols))\n",
    "    tmp = image.img_to_array(img)\n",
    "    tmp = np.expand_dims(tmp, axis=0)\n",
    "    #tmp = preprocess_input(tmp)\n",
    "    return tmp"
   ]
  },
  {
   "cell_type": "code",
   "execution_count": 3,
   "id": "33869b19-6da9-4000-b477-ca44c6b889f7",
   "metadata": {},
   "outputs": [],
   "source": [
    "#charger liste des images\n",
    "img_name = list()\n",
    "for i in range(0,1000):\n",
    "    img_name.append(str(i)+\".jpg\")"
   ]
  },
  {
   "cell_type": "markdown",
   "id": "fe3dd195-139d-4a2b-bec3-442e50eae7e2",
   "metadata": {},
   "source": [
    "### Paramétrage"
   ]
  },
  {
   "cell_type": "code",
   "execution_count": 4,
   "id": "c5489f3f-775d-475e-b01f-067d3e3a254a",
   "metadata": {},
   "outputs": [],
   "source": [
    "#vérité fondamentale\n",
    "target = np.array([0]*100+[1]*100+[2]*100+[3]*100+[4]*100+[5]*100+[6]*100+[7]*100+[8]*100+[9]*100)\n",
    "\n",
    "# Nombre de caractéristiques de données différentes : chiffres 0-9\n",
    "num_classes = 10\n",
    "# Nombre de périodes pour la formation du réseau de neurones\n",
    "epochs = 1\n",
    "# Nombre de blocs de données utilisée lors d'un passage/epoch\n",
    "batch_size = 5\n",
    "# Dimensions des images d'entrée (28 x 28 pixels par image)\n",
    "img_rows, img_cols = 256, 256"
   ]
  },
  {
   "cell_type": "code",
   "execution_count": 12,
   "id": "d93def61-2f10-49ad-b243-88ee26a3b4cb",
   "metadata": {},
   "outputs": [],
   "source": [
    "# Télécharger les formations et les tests\n",
    "\n",
    "#img_path = 'Wang/*.jpg'\n",
    "img_path = r'C:\\Users\\adrien\\Desktop\\EICNAM\\3ème année\\ML\\Projet 1 - Réseaux de neurones\\Wang\\0.jpg'\n",
    "img = image.load_img(img_path, target_size=(224, 224))\n",
    "img_array = image.img_to_array(img)\n",
    "img_batch = np.expand_dims(img_array, axis=0)\n",
    "\n",
    "#initialisation des train et test_images\n",
    "train_images = img_batch\n",
    "test_images = img_batch\n",
    "train_labels = target\n",
    "test_labels = target"
   ]
  },
  {
   "cell_type": "code",
   "execution_count": null,
   "id": "2f30a078-3b9e-4cbc-9f39-3d9dc9410c17",
   "metadata": {},
   "outputs": [],
   "source": [
    "#Constitution de nos batch de données images et mise à jour de nos données \"train\" et \"test\"\n",
    "\n",
    "batch_holder = np.zeros((1000, img_rows, img_cols, 3))\n",
    "i = 0\n",
    "for name in img_name:\n",
    "    batch_holder[i, :] = read_image(name, img_rows, img_cols)[0]\n",
    "    i = i+1\n",
    "\n",
    "train_images = batch_holder\n",
    "test_images = batch_holder\n",
    "\n",
    "input_shape = (img_rows, img_cols, 3)"
   ]
  },
  {
   "cell_type": "markdown",
   "id": "a795f867-0d35-4aa3-9c5d-1c1ba79918b7",
   "metadata": {},
   "source": [
    "### Transformation des features"
   ]
  },
  {
   "cell_type": "code",
   "execution_count": null,
   "id": "a3024f95-07f9-4c63-99b3-efef6bc2104d",
   "metadata": {},
   "outputs": [],
   "source": [
    "\n",
    "# Définition du type de données en nombre décimal \n",
    "train_images = train_images.astype('float32')\n",
    "test_images = test_images.astype('float32')\n",
    "\n",
    "# Normalisation des données des images\n",
    "train_images /= 255\n",
    "test_images /= 255\n",
    "print('train_images shape:', train_images.shape)\n",
    "print(train_images.shape[0], 'train samples')\n",
    "print(test_images.shape[0], 'test samples')\n",
    "\n",
    "# Convertion des vecteurs de classe en matrices de classe binaires\n",
    "train_labels = keras.utils.to_categorical(train_labels, num_classes)\n",
    "test_labels = keras.utils.to_categorical(test_labels, num_classes)"
   ]
  },
  {
   "cell_type": "markdown",
   "id": "38c826c6-c648-4f75-958c-42555b5c9264",
   "metadata": {},
   "source": [
    "### Définition de notre modèle"
   ]
  },
  {
   "cell_type": "code",
   "execution_count": null,
   "id": "5d1ccdb8-564b-4f7b-9863-6ea44e82fb1a",
   "metadata": {},
   "outputs": [],
   "source": [
    "# Création du modèle\n",
    "\n",
    "model = Sequential()\n",
    "\n",
    "# Ajouter des couches au modèle\n",
    "model.add(Conv2D(32, kernel_size=(3, 3),\n",
    "                 activation='relu',\n",
    "                 input_shape=input_shape))\n",
    "model.add(Conv2D(64, (3, 3), activation='relu'))\n",
    "model.add(MaxPooling2D(pool_size=(2, 2)))\n",
    "model.add(Dropout(0.25))\n",
    "model.add(Flatten())\n",
    "model.add(Dense(32, activation='relu'))\n",
    "model.add(Dropout(0.5))\n",
    "model.add(Dense(num_classes, activation='softmax'))\n",
    "\n",
    "# Compilation du modèle\n",
    "model.compile(loss=keras.losses.categorical_crossentropy,\n",
    "              optimizer=keras.optimizers.Adadelta(),\n",
    "              metrics=['accuracy'])"
   ]
  },
  {
   "cell_type": "markdown",
   "id": "14216aec-ceb4-43e5-b6be-fc621c6de533",
   "metadata": {},
   "source": [
    "### Apprentissage et Test"
   ]
  },
  {
   "cell_type": "code",
   "execution_count": null,
   "id": "4d4bbad7-328b-4a6e-ab60-c58d923bb6a8",
   "metadata": {},
   "outputs": [],
   "source": [
    "#Apprentisssage du modèle\n",
    "model.fit(train_images, train_labels,\n",
    "          batch_size=batch_size,\n",
    "          epochs=epochs,\n",
    "          verbose=1,\n",
    "          validation_data=(test_images, test_labels))"
   ]
  },
  {
   "cell_type": "code",
   "execution_count": null,
   "id": "63dc4030-cbec-454a-9004-d81513c6a50b",
   "metadata": {},
   "outputs": [],
   "source": [
    "# Évaluation du modèle\n",
    "predictions = model.predict(test_images, batch_size = batch_size, verbose=0)\n",
    "#affichage des résultats (matrice de confusion et score de précision/accuracy)\n",
    "pred = list()\n",
    "for i in range(len(predictions)) :\n",
    "    pred.append(np.argmax(predictions[i]))\n",
    "confusion_matrix(target, pred)"
   ]
  }
 ],
 "metadata": {
  "kernelspec": {
   "display_name": "Python 3",
   "language": "python",
   "name": "python3"
  },
  "language_info": {
   "codemirror_mode": {
    "name": "ipython",
    "version": 3
   },
   "file_extension": ".py",
   "mimetype": "text/x-python",
   "name": "python",
   "nbconvert_exporter": "python",
   "pygments_lexer": "ipython3",
   "version": "3.7.9"
  }
 },
 "nbformat": 4,
 "nbformat_minor": 5
}
